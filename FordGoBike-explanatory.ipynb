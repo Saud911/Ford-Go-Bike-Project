{
 "cells": [
  {
   "cell_type": "markdown",
   "metadata": {
    "slideshow": {
     "slide_type": "slide"
    }
   },
   "source": [
    "# Data visualization\n",
    "### By Saud Alarifi"
   ]
  },
  {
   "cell_type": "markdown",
   "metadata": {
    "slideshow": {
     "slide_type": "skip"
    }
   },
   "source": [
    "### Project Overview\n",
    "**In this project we will wrangle , explorate and cummuincate insights of the dataset of `Ford Go Bike System - 2018 - First quarter`.** "
   ]
  },
  {
   "cell_type": "markdown",
   "metadata": {
    "slideshow": {
     "slide_type": "slide"
    }
   },
   "source": [
    "## Investigation Overview\n",
    "\n",
    "> Our main goal is to find the features that related directly or indirectly to trip duration .\n",
    "\n",
    "## Dataset Overview\n",
    "\n",
    "> The dataset of First quarter of FordGoBike system consist of (312902, 14) rows and columns respectively.  ."
   ]
  },
  {
   "cell_type": "markdown",
   "metadata": {
    "slideshow": {
     "slide_type": "slide"
    }
   },
   "source": [
    "## Project Timeline\n",
    "- **Wrangling Process**\n",
    "- **Univariate Exploration**\n",
    "- **Bivariate Exploration**\n",
    "- **Multivariate Exploration**\n",
    "- **Observed results**\n",
    "- **Referncees**\n",
    "\n"
   ]
  },
  {
   "cell_type": "markdown",
   "metadata": {
    "slideshow": {
     "slide_type": "skip"
    }
   },
   "source": [
    "### - Wrangling process"
   ]
  },
  {
   "cell_type": "code",
   "execution_count": 1,
   "metadata": {
    "slideshow": {
     "slide_type": "skip"
    }
   },
   "outputs": [],
   "source": [
    "#Import all required libraries.\n",
    "import numpy as np\n",
    "import pandas as pd\n",
    "import matplotlib.pyplot as plt\n",
    "import seaborn as sb\n",
    "\n",
    "%matplotlib inline"
   ]
  },
  {
   "cell_type": "code",
   "execution_count": 2,
   "metadata": {
    "slideshow": {
     "slide_type": "skip"
    }
   },
   "outputs": [],
   "source": [
    "# Downloading the dataset manually into a pandas dataframe and joining the data of the first 3 months. \n",
    "def reading(arg):\n",
    "    return pd.read_csv(arg)\n",
    "go_bike_m1 = reading('201801-fordgobike-tripdata.csv')\n",
    "go_bike_m2 = reading('201802-fordgobike-tripdata.csv')\n",
    "go_bike_m3 = reading('201803-fordgobike-tripdata.csv')\n",
    "go_bike_q1 = pd.concat([go_bike_m1, go_bike_m2 , go_bike_m3], ignore_index=True)\n"
   ]
  },
  {
   "cell_type": "code",
   "execution_count": 3,
   "metadata": {
    "slideshow": {
     "slide_type": "skip"
    }
   },
   "outputs": [
    {
     "name": "stdout",
     "output_type": "stream",
     "text": [
      "(312902, 16)\n"
     ]
    },
    {
     "data": {
      "text/html": [
       "<div>\n",
       "<style scoped>\n",
       "    .dataframe tbody tr th:only-of-type {\n",
       "        vertical-align: middle;\n",
       "    }\n",
       "\n",
       "    .dataframe tbody tr th {\n",
       "        vertical-align: top;\n",
       "    }\n",
       "\n",
       "    .dataframe thead th {\n",
       "        text-align: right;\n",
       "    }\n",
       "</style>\n",
       "<table border=\"1\" class=\"dataframe\">\n",
       "  <thead>\n",
       "    <tr style=\"text-align: right;\">\n",
       "      <th></th>\n",
       "      <th>duration_sec</th>\n",
       "      <th>start_time</th>\n",
       "      <th>end_time</th>\n",
       "      <th>start_station_id</th>\n",
       "      <th>start_station_name</th>\n",
       "      <th>start_station_latitude</th>\n",
       "      <th>start_station_longitude</th>\n",
       "      <th>end_station_id</th>\n",
       "      <th>end_station_name</th>\n",
       "      <th>end_station_latitude</th>\n",
       "      <th>end_station_longitude</th>\n",
       "      <th>bike_id</th>\n",
       "      <th>user_type</th>\n",
       "      <th>member_birth_year</th>\n",
       "      <th>member_gender</th>\n",
       "      <th>bike_share_for_all_trip</th>\n",
       "    </tr>\n",
       "  </thead>\n",
       "  <tbody>\n",
       "    <tr>\n",
       "      <th>0</th>\n",
       "      <td>75284</td>\n",
       "      <td>2018-01-31 22:52:35.2390</td>\n",
       "      <td>2018-02-01 19:47:19.8240</td>\n",
       "      <td>120</td>\n",
       "      <td>Mission Dolores Park</td>\n",
       "      <td>37.761420</td>\n",
       "      <td>-122.426435</td>\n",
       "      <td>285</td>\n",
       "      <td>Webster St at O'Farrell St</td>\n",
       "      <td>37.783521</td>\n",
       "      <td>-122.431158</td>\n",
       "      <td>2765</td>\n",
       "      <td>Subscriber</td>\n",
       "      <td>1986.0</td>\n",
       "      <td>Male</td>\n",
       "      <td>No</td>\n",
       "    </tr>\n",
       "    <tr>\n",
       "      <th>1</th>\n",
       "      <td>85422</td>\n",
       "      <td>2018-01-31 16:13:34.3510</td>\n",
       "      <td>2018-02-01 15:57:17.3100</td>\n",
       "      <td>15</td>\n",
       "      <td>San Francisco Ferry Building (Harry Bridges Pl...</td>\n",
       "      <td>37.795392</td>\n",
       "      <td>-122.394203</td>\n",
       "      <td>15</td>\n",
       "      <td>San Francisco Ferry Building (Harry Bridges Pl...</td>\n",
       "      <td>37.795392</td>\n",
       "      <td>-122.394203</td>\n",
       "      <td>2815</td>\n",
       "      <td>Customer</td>\n",
       "      <td>NaN</td>\n",
       "      <td>NaN</td>\n",
       "      <td>No</td>\n",
       "    </tr>\n",
       "    <tr>\n",
       "      <th>2</th>\n",
       "      <td>71576</td>\n",
       "      <td>2018-01-31 14:23:55.8890</td>\n",
       "      <td>2018-02-01 10:16:52.1160</td>\n",
       "      <td>304</td>\n",
       "      <td>Jackson St at 5th St</td>\n",
       "      <td>37.348759</td>\n",
       "      <td>-121.894798</td>\n",
       "      <td>296</td>\n",
       "      <td>5th St at Virginia St</td>\n",
       "      <td>37.325998</td>\n",
       "      <td>-121.877120</td>\n",
       "      <td>3039</td>\n",
       "      <td>Customer</td>\n",
       "      <td>1996.0</td>\n",
       "      <td>Male</td>\n",
       "      <td>No</td>\n",
       "    </tr>\n",
       "    <tr>\n",
       "      <th>3</th>\n",
       "      <td>61076</td>\n",
       "      <td>2018-01-31 14:53:23.5620</td>\n",
       "      <td>2018-02-01 07:51:20.5000</td>\n",
       "      <td>75</td>\n",
       "      <td>Market St at Franklin St</td>\n",
       "      <td>37.773793</td>\n",
       "      <td>-122.421239</td>\n",
       "      <td>47</td>\n",
       "      <td>4th St at Harrison St</td>\n",
       "      <td>37.780955</td>\n",
       "      <td>-122.399749</td>\n",
       "      <td>321</td>\n",
       "      <td>Customer</td>\n",
       "      <td>NaN</td>\n",
       "      <td>NaN</td>\n",
       "      <td>No</td>\n",
       "    </tr>\n",
       "    <tr>\n",
       "      <th>4</th>\n",
       "      <td>39966</td>\n",
       "      <td>2018-01-31 19:52:24.6670</td>\n",
       "      <td>2018-02-01 06:58:31.0530</td>\n",
       "      <td>74</td>\n",
       "      <td>Laguna St at Hayes St</td>\n",
       "      <td>37.776435</td>\n",
       "      <td>-122.426244</td>\n",
       "      <td>19</td>\n",
       "      <td>Post St at Kearny St</td>\n",
       "      <td>37.788975</td>\n",
       "      <td>-122.403452</td>\n",
       "      <td>617</td>\n",
       "      <td>Subscriber</td>\n",
       "      <td>1991.0</td>\n",
       "      <td>Male</td>\n",
       "      <td>No</td>\n",
       "    </tr>\n",
       "  </tbody>\n",
       "</table>\n",
       "</div>"
      ],
      "text/plain": [
       "   duration_sec                start_time                  end_time  \\\n",
       "0         75284  2018-01-31 22:52:35.2390  2018-02-01 19:47:19.8240   \n",
       "1         85422  2018-01-31 16:13:34.3510  2018-02-01 15:57:17.3100   \n",
       "2         71576  2018-01-31 14:23:55.8890  2018-02-01 10:16:52.1160   \n",
       "3         61076  2018-01-31 14:53:23.5620  2018-02-01 07:51:20.5000   \n",
       "4         39966  2018-01-31 19:52:24.6670  2018-02-01 06:58:31.0530   \n",
       "\n",
       "   start_station_id                                 start_station_name  \\\n",
       "0               120                               Mission Dolores Park   \n",
       "1                15  San Francisco Ferry Building (Harry Bridges Pl...   \n",
       "2               304                               Jackson St at 5th St   \n",
       "3                75                           Market St at Franklin St   \n",
       "4                74                              Laguna St at Hayes St   \n",
       "\n",
       "   start_station_latitude  start_station_longitude  end_station_id  \\\n",
       "0               37.761420              -122.426435             285   \n",
       "1               37.795392              -122.394203              15   \n",
       "2               37.348759              -121.894798             296   \n",
       "3               37.773793              -122.421239              47   \n",
       "4               37.776435              -122.426244              19   \n",
       "\n",
       "                                    end_station_name  end_station_latitude  \\\n",
       "0                         Webster St at O'Farrell St             37.783521   \n",
       "1  San Francisco Ferry Building (Harry Bridges Pl...             37.795392   \n",
       "2                              5th St at Virginia St             37.325998   \n",
       "3                              4th St at Harrison St             37.780955   \n",
       "4                               Post St at Kearny St             37.788975   \n",
       "\n",
       "   end_station_longitude  bike_id   user_type  member_birth_year  \\\n",
       "0            -122.431158     2765  Subscriber             1986.0   \n",
       "1            -122.394203     2815    Customer                NaN   \n",
       "2            -121.877120     3039    Customer             1996.0   \n",
       "3            -122.399749      321    Customer                NaN   \n",
       "4            -122.403452      617  Subscriber             1991.0   \n",
       "\n",
       "  member_gender bike_share_for_all_trip  \n",
       "0          Male                      No  \n",
       "1           NaN                      No  \n",
       "2          Male                      No  \n",
       "3           NaN                      No  \n",
       "4          Male                      No  "
      ]
     },
     "execution_count": 3,
     "metadata": {},
     "output_type": "execute_result"
    }
   ],
   "source": [
    "# simple look over the data set\n",
    "print(go_bike_q1.shape)\n",
    "go_bike_q1.head()"
   ]
  },
  {
   "cell_type": "markdown",
   "metadata": {
    "slideshow": {
     "slide_type": "skip"
    }
   },
   "source": [
    "**The dataset of First quarter consist of (312902, 14) rows and columns respectively**."
   ]
  },
  {
   "cell_type": "code",
   "execution_count": 4,
   "metadata": {
    "slideshow": {
     "slide_type": "skip"
    }
   },
   "outputs": [
    {
     "data": {
      "text/plain": [
       "duration_sec                   0\n",
       "start_time                     0\n",
       "end_time                       0\n",
       "start_station_id               0\n",
       "start_station_name             0\n",
       "start_station_latitude         0\n",
       "start_station_longitude        0\n",
       "end_station_id                 0\n",
       "end_station_name               0\n",
       "end_station_latitude           0\n",
       "end_station_longitude          0\n",
       "bike_id                        0\n",
       "user_type                      0\n",
       "member_birth_year          24966\n",
       "member_gender              24854\n",
       "bike_share_for_all_trip        0\n",
       "dtype: int64"
      ]
     },
     "execution_count": 4,
     "metadata": {},
     "output_type": "execute_result"
    }
   ],
   "source": [
    "#Checking the missing values\n",
    "go_bike_q1.isnull().sum()"
   ]
  },
  {
   "cell_type": "code",
   "execution_count": 5,
   "metadata": {
    "slideshow": {
     "slide_type": "skip"
    }
   },
   "outputs": [
    {
     "name": "stdout",
     "output_type": "stream",
     "text": [
      "<class 'pandas.core.frame.DataFrame'>\n",
      "RangeIndex: 312902 entries, 0 to 312901\n",
      "Data columns (total 16 columns):\n",
      " #   Column                   Non-Null Count   Dtype  \n",
      "---  ------                   --------------   -----  \n",
      " 0   duration_sec             312902 non-null  int64  \n",
      " 1   start_time               312902 non-null  object \n",
      " 2   end_time                 312902 non-null  object \n",
      " 3   start_station_id         312902 non-null  int64  \n",
      " 4   start_station_name       312902 non-null  object \n",
      " 5   start_station_latitude   312902 non-null  float64\n",
      " 6   start_station_longitude  312902 non-null  float64\n",
      " 7   end_station_id           312902 non-null  int64  \n",
      " 8   end_station_name         312902 non-null  object \n",
      " 9   end_station_latitude     312902 non-null  float64\n",
      " 10  end_station_longitude    312902 non-null  float64\n",
      " 11  bike_id                  312902 non-null  int64  \n",
      " 12  user_type                312902 non-null  object \n",
      " 13  member_birth_year        287936 non-null  float64\n",
      " 14  member_gender            288048 non-null  object \n",
      " 15  bike_share_for_all_trip  312902 non-null  object \n",
      "dtypes: float64(5), int64(4), object(7)\n",
      "memory usage: 38.2+ MB\n"
     ]
    }
   ],
   "source": [
    "# the datatype of each column.\n",
    "go_bike_q1.info()"
   ]
  },
  {
   "cell_type": "markdown",
   "metadata": {
    "slideshow": {
     "slide_type": "skip"
    }
   },
   "source": [
    "**There is around 25k missing values presented in 2 columns in the dataset.**"
   ]
  },
  {
   "cell_type": "code",
   "execution_count": 6,
   "metadata": {
    "slideshow": {
     "slide_type": "skip"
    }
   },
   "outputs": [],
   "source": [
    "#Drop the rows with missing values\n",
    "go_bike_q1.dropna(inplace=True)\n"
   ]
  },
  {
   "cell_type": "code",
   "execution_count": 7,
   "metadata": {
    "slideshow": {
     "slide_type": "skip"
    }
   },
   "outputs": [
    {
     "data": {
      "text/html": [
       "<div>\n",
       "<style scoped>\n",
       "    .dataframe tbody tr th:only-of-type {\n",
       "        vertical-align: middle;\n",
       "    }\n",
       "\n",
       "    .dataframe tbody tr th {\n",
       "        vertical-align: top;\n",
       "    }\n",
       "\n",
       "    .dataframe thead th {\n",
       "        text-align: right;\n",
       "    }\n",
       "</style>\n",
       "<table border=\"1\" class=\"dataframe\">\n",
       "  <thead>\n",
       "    <tr style=\"text-align: right;\">\n",
       "      <th></th>\n",
       "      <th>duration_sec</th>\n",
       "      <th>start_station_id</th>\n",
       "      <th>start_station_latitude</th>\n",
       "      <th>start_station_longitude</th>\n",
       "      <th>end_station_id</th>\n",
       "      <th>end_station_latitude</th>\n",
       "      <th>end_station_longitude</th>\n",
       "      <th>bike_id</th>\n",
       "      <th>member_birth_year</th>\n",
       "    </tr>\n",
       "  </thead>\n",
       "  <tbody>\n",
       "    <tr>\n",
       "      <th>count</th>\n",
       "      <td>287936.000000</td>\n",
       "      <td>287936.000000</td>\n",
       "      <td>287936.000000</td>\n",
       "      <td>287936.000000</td>\n",
       "      <td>287936.000000</td>\n",
       "      <td>287936.000000</td>\n",
       "      <td>287936.000000</td>\n",
       "      <td>287936.000000</td>\n",
       "      <td>287936.000000</td>\n",
       "    </tr>\n",
       "    <tr>\n",
       "      <th>mean</th>\n",
       "      <td>739.475130</td>\n",
       "      <td>111.016361</td>\n",
       "      <td>37.767327</td>\n",
       "      <td>-122.352475</td>\n",
       "      <td>108.594913</td>\n",
       "      <td>37.767433</td>\n",
       "      <td>-122.351606</td>\n",
       "      <td>2023.613282</td>\n",
       "      <td>1981.493888</td>\n",
       "    </tr>\n",
       "    <tr>\n",
       "      <th>std</th>\n",
       "      <td>1928.116754</td>\n",
       "      <td>92.646397</td>\n",
       "      <td>0.101192</td>\n",
       "      <td>0.119806</td>\n",
       "      <td>91.995653</td>\n",
       "      <td>0.101014</td>\n",
       "      <td>0.119094</td>\n",
       "      <td>1091.362588</td>\n",
       "      <td>10.760571</td>\n",
       "    </tr>\n",
       "    <tr>\n",
       "      <th>min</th>\n",
       "      <td>61.000000</td>\n",
       "      <td>3.000000</td>\n",
       "      <td>37.312854</td>\n",
       "      <td>-122.444293</td>\n",
       "      <td>3.000000</td>\n",
       "      <td>37.312854</td>\n",
       "      <td>-122.444293</td>\n",
       "      <td>11.000000</td>\n",
       "      <td>1900.000000</td>\n",
       "    </tr>\n",
       "    <tr>\n",
       "      <th>25%</th>\n",
       "      <td>346.000000</td>\n",
       "      <td>30.000000</td>\n",
       "      <td>37.771058</td>\n",
       "      <td>-122.411738</td>\n",
       "      <td>30.000000</td>\n",
       "      <td>37.771058</td>\n",
       "      <td>-122.410662</td>\n",
       "      <td>1112.000000</td>\n",
       "      <td>1976.000000</td>\n",
       "    </tr>\n",
       "    <tr>\n",
       "      <th>50%</th>\n",
       "      <td>533.000000</td>\n",
       "      <td>81.000000</td>\n",
       "      <td>37.781270</td>\n",
       "      <td>-122.397405</td>\n",
       "      <td>81.000000</td>\n",
       "      <td>37.781383</td>\n",
       "      <td>-122.397086</td>\n",
       "      <td>2117.000000</td>\n",
       "      <td>1984.000000</td>\n",
       "    </tr>\n",
       "    <tr>\n",
       "      <th>75%</th>\n",
       "      <td>809.000000</td>\n",
       "      <td>176.000000</td>\n",
       "      <td>37.795392</td>\n",
       "      <td>-122.291376</td>\n",
       "      <td>176.000000</td>\n",
       "      <td>37.795392</td>\n",
       "      <td>-122.291415</td>\n",
       "      <td>2992.000000</td>\n",
       "      <td>1989.000000</td>\n",
       "    </tr>\n",
       "    <tr>\n",
       "      <th>max</th>\n",
       "      <td>85471.000000</td>\n",
       "      <td>343.000000</td>\n",
       "      <td>37.880222</td>\n",
       "      <td>-121.874119</td>\n",
       "      <td>343.000000</td>\n",
       "      <td>37.880222</td>\n",
       "      <td>-121.874119</td>\n",
       "      <td>3756.000000</td>\n",
       "      <td>2000.000000</td>\n",
       "    </tr>\n",
       "  </tbody>\n",
       "</table>\n",
       "</div>"
      ],
      "text/plain": [
       "        duration_sec  start_station_id  start_station_latitude  \\\n",
       "count  287936.000000     287936.000000           287936.000000   \n",
       "mean      739.475130        111.016361               37.767327   \n",
       "std      1928.116754         92.646397                0.101192   \n",
       "min        61.000000          3.000000               37.312854   \n",
       "25%       346.000000         30.000000               37.771058   \n",
       "50%       533.000000         81.000000               37.781270   \n",
       "75%       809.000000        176.000000               37.795392   \n",
       "max     85471.000000        343.000000               37.880222   \n",
       "\n",
       "       start_station_longitude  end_station_id  end_station_latitude  \\\n",
       "count            287936.000000   287936.000000         287936.000000   \n",
       "mean               -122.352475      108.594913             37.767433   \n",
       "std                   0.119806       91.995653              0.101014   \n",
       "min                -122.444293        3.000000             37.312854   \n",
       "25%                -122.411738       30.000000             37.771058   \n",
       "50%                -122.397405       81.000000             37.781383   \n",
       "75%                -122.291376      176.000000             37.795392   \n",
       "max                -121.874119      343.000000             37.880222   \n",
       "\n",
       "       end_station_longitude        bike_id  member_birth_year  \n",
       "count          287936.000000  287936.000000      287936.000000  \n",
       "mean             -122.351606    2023.613282        1981.493888  \n",
       "std                 0.119094    1091.362588          10.760571  \n",
       "min              -122.444293      11.000000        1900.000000  \n",
       "25%              -122.410662    1112.000000        1976.000000  \n",
       "50%              -122.397086    2117.000000        1984.000000  \n",
       "75%              -122.291415    2992.000000        1989.000000  \n",
       "max              -121.874119    3756.000000        2000.000000  "
      ]
     },
     "execution_count": 7,
     "metadata": {},
     "output_type": "execute_result"
    }
   ],
   "source": [
    "# Statical look over the dataset\n",
    "go_bike_q1.describe()"
   ]
  },
  {
   "cell_type": "code",
   "execution_count": 8,
   "metadata": {
    "slideshow": {
     "slide_type": "skip"
    }
   },
   "outputs": [
    {
     "name": "stdout",
     "output_type": "stream",
     "text": [
      "3    102347\n",
      "2     98626\n",
      "1     86963\n",
      "Name: month, dtype: int64\n"
     ]
    },
    {
     "data": {
      "text/plain": [
       "88670     1\n",
       "28934     1\n",
       "145414    2\n",
       "5374      1\n",
       "59901     1\n",
       "27918     1\n",
       "115039    2\n",
       "133531    2\n",
       "Name: month, dtype: int64"
      ]
     },
     "execution_count": 8,
     "metadata": {},
     "output_type": "execute_result"
    }
   ],
   "source": [
    "#Create month column.\n",
    "go_bike_q1['month'] = pd.DatetimeIndex(go_bike_q1['start_time']).month\n",
    "print(go_bike_q1.month.value_counts())\n",
    "go_bike_q1.month.sample(8)"
   ]
  },
  {
   "cell_type": "markdown",
   "metadata": {
    "slideshow": {
     "slide_type": "skip"
    }
   },
   "source": [
    "**The months represented as number instead of names !.**"
   ]
  },
  {
   "cell_type": "code",
   "execution_count": 9,
   "metadata": {
    "slideshow": {
     "slide_type": "skip"
    }
   },
   "outputs": [
    {
     "data": {
      "text/plain": [
       "302509    Mar\n",
       "132738    Feb\n",
       "159544    Feb\n",
       "202351    Mar\n",
       "166532    Feb\n",
       "50966     Jan\n",
       "84532     Jan\n",
       "146879    Feb\n",
       "Name: month, dtype: object"
      ]
     },
     "execution_count": 9,
     "metadata": {},
     "output_type": "execute_result"
    }
   ],
   "source": [
    "#Convert the months from numbers to names.\n",
    "import calendar\n",
    "go_bike_q1['month'] = go_bike_q1['month'].apply(lambda x: calendar.month_abbr[x])\n",
    "go_bike_q1.month.sample(8)"
   ]
  },
  {
   "cell_type": "code",
   "execution_count": 10,
   "metadata": {
    "slideshow": {
     "slide_type": "skip"
    }
   },
   "outputs": [
    {
     "name": "stdout",
     "output_type": "stream",
     "text": [
      "['duration_min', 'duration_sec', 'start_time', 'end_time', 'start_station_id', 'start_station_name', 'start_station_latitude', 'start_station_longitude', 'end_station_id', 'end_station_name', 'end_station_latitude', 'end_station_longitude', 'bike_id', 'user_type', 'member_birth_year', 'member_gender', 'bike_share_for_all_trip', 'month']\n"
     ]
    },
    {
     "data": {
      "text/plain": [
       "197662     4.466667\n",
       "193473    16.666667\n",
       "312460    11.750000\n",
       "Name: duration_min, dtype: float64"
      ]
     },
     "execution_count": 10,
     "metadata": {},
     "output_type": "execute_result"
    }
   ],
   "source": [
    "#Create column to represent the duration time in minutes.\n",
    "go_bike_q1['duration_min'] = go_bike_q1['duration_sec']/60\n",
    "#Rearrange columns \n",
    "cols = go_bike_q1.columns.tolist()\n",
    "cols = cols[-1:] + cols[:-1]\n",
    "go_bike_q1 = go_bike_q1[cols]\n",
    "print(list(go_bike_q1))\n",
    "go_bike_q1['duration_min'].sample(3)"
   ]
  },
  {
   "cell_type": "code",
   "execution_count": 11,
   "metadata": {
    "slideshow": {
     "slide_type": "skip"
    }
   },
   "outputs": [],
   "source": [
    "#Extract the age of the users from birth column.\n",
    "go_bike_q1['user_age'] = 2020 - go_bike_q1['member_birth_year']\n",
    "go_bike_q1['user_age'] = go_bike_q1['user_age'].astype(int)\n"
   ]
  },
  {
   "cell_type": "code",
   "execution_count": 12,
   "metadata": {
    "slideshow": {
     "slide_type": "skip"
    }
   },
   "outputs": [
    {
     "name": "stdout",
     "output_type": "stream",
     "text": [
      "<class 'pandas.core.frame.DataFrame'>\n",
      "Int64Index: 287936 entries, 0 to 312901\n",
      "Data columns (total 19 columns):\n",
      " #   Column                   Non-Null Count   Dtype  \n",
      "---  ------                   --------------   -----  \n",
      " 0   duration_min             287936 non-null  float64\n",
      " 1   duration_sec             287936 non-null  int64  \n",
      " 2   start_time               287936 non-null  object \n",
      " 3   end_time                 287936 non-null  object \n",
      " 4   start_station_id         287936 non-null  int64  \n",
      " 5   start_station_name       287936 non-null  object \n",
      " 6   start_station_latitude   287936 non-null  float64\n",
      " 7   start_station_longitude  287936 non-null  float64\n",
      " 8   end_station_id           287936 non-null  int64  \n",
      " 9   end_station_name         287936 non-null  object \n",
      " 10  end_station_latitude     287936 non-null  float64\n",
      " 11  end_station_longitude    287936 non-null  float64\n",
      " 12  bike_id                  287936 non-null  int64  \n",
      " 13  user_type                287936 non-null  object \n",
      " 14  member_birth_year        287936 non-null  float64\n",
      " 15  member_gender            287936 non-null  object \n",
      " 16  bike_share_for_all_trip  287936 non-null  object \n",
      " 17  month                    287936 non-null  object \n",
      " 18  user_age                 287936 non-null  int32  \n",
      "dtypes: float64(6), int32(1), int64(4), object(8)\n",
      "memory usage: 42.8+ MB\n"
     ]
    }
   ],
   "source": [
    "go_bike_q1.info()"
   ]
  },
  {
   "cell_type": "markdown",
   "metadata": {
    "slideshow": {
     "slide_type": "skip"
    }
   },
   "source": [
    "**Now the dataset is ready for exploratory and explanatory steps.**"
   ]
  },
  {
   "cell_type": "markdown",
   "metadata": {
    "slideshow": {
     "slide_type": "skip"
    }
   },
   "source": [
    "**The goal of exploratory step is to find out the features related to high duration trips.**\n",
    "\n",
    "**In other words what makes a person to spend more time in bike trip?.**"
   ]
  },
  {
   "cell_type": "markdown",
   "metadata": {
    "slideshow": {
     "slide_type": "skip"
    }
   },
   "source": [
    "### - Univariate Exploration\n"
   ]
  },
  {
   "cell_type": "markdown",
   "metadata": {
    "slideshow": {
     "slide_type": "skip"
    }
   },
   "source": [
    "- **The distribution of first quarter**"
   ]
  },
  {
   "cell_type": "markdown",
   "metadata": {
    "slideshow": {
     "slide_type": "skip"
    }
   },
   "source": [
    "**Q/ What is the highest month by number of bikers?**"
   ]
  },
  {
   "cell_type": "code",
   "execution_count": 13,
   "metadata": {
    "slideshow": {
     "slide_type": "skip"
    }
   },
   "outputs": [
    {
     "data": {
      "image/png": "[encoded data removed]",
      "text/plain": [
       "<Figure size 432x288 with 1 Axes>"
      ]
     },
     "metadata": {
      "needs_background": "light"
     },
     "output_type": "display_data"
    }
   ],
   "source": [
    "#By plotting Bar chart , we can identify the disturbution of Q1.\n",
    "base_color = sb.color_palette()[7]\n",
    "ax = sb.countplot(data = go_bike_q1, x = 'month', color = base_color)\n",
    "# Set title\n",
    "ax.set_title(\"The distribution of first quarter\")\n",
    "#Display percentage above bars.\n",
    "n_points = go_bike_q1.shape[0]\n",
    "month_counts = go_bike_q1['month'].value_counts()\n",
    "locs, labels = plt.xticks() # get the current tick locations and labels\n",
    "\n",
    "# loop through each pair of locations and labels\n",
    "for loc, label in zip(locs, labels):\n",
    "\n",
    "# get the text property for the label to get the correct count\n",
    "    count = month_counts[label.get_text()]\n",
    "    pct_string = '{:0.1f}%'.format(100*count/n_points)\n",
    "\n",
    "    # print the annotation just below the top of the bar\n",
    "    plt.text(loc, count-8, pct_string, ha = 'center', color = 'blue')\n",
    "plt.show()\n",
    "##this code is Provided by Udacity class room - Refernce: https://classroom.udacity.com/nanodegrees/nd002-connect/parts/1d873e04-4931-442f-a7f2-409a98b782bb/modules/1dc09d28-5703-493c-aab5-a418b8bfa3e1/lessons/b86503df-e416-4f0e-9e2d-a7a3c08d0bc3/concepts/bd9948e9-eda5-48b7-8c6f-e97192a9ac48"
   ]
  },
  {
   "cell_type": "markdown",
   "metadata": {
    "slideshow": {
     "slide_type": "skip"
    }
   },
   "source": [
    "**It turend out that May is on the lead by 35.6% , Feb on 2nd place by 34,1% and eventually Jan by 30.3%.** "
   ]
  },
  {
   "cell_type": "markdown",
   "metadata": {
    "slideshow": {
     "slide_type": "skip"
    }
   },
   "source": [
    "- **The distribution of duration in minutes**"
   ]
  },
  {
   "cell_type": "markdown",
   "metadata": {
    "slideshow": {
     "slide_type": "skip"
    }
   },
   "source": [
    "**Q/  is the data of duration normally distributed ?**"
   ]
  },
  {
   "cell_type": "code",
   "execution_count": 14,
   "metadata": {
    "slideshow": {
     "slide_type": "skip"
    }
   },
   "outputs": [
    {
     "data": {
      "image/png": "[encoded data removed]",
      "text/plain": [
       "<Figure size 576x360 with 1 Axes>"
      ]
     },
     "metadata": {
      "needs_background": "light"
     },
     "output_type": "display_data"
    }
   ],
   "source": [
    "binsize = 1\n",
    "bins = np.arange(0, go_bike_q1['duration_min'].max()+binsize, binsize)\n",
    "\n",
    "plt.figure(figsize=[8, 5])\n",
    "plt.hist(data = go_bike_q1, x = 'duration_min', bins = bins)\n",
    "plt.xlabel('Duration (min)')\n",
    "plt.title('The distribution of duration in minutes')\n",
    "plt.show()"
   ]
  },
  {
   "cell_type": "markdown",
   "metadata": {
    "slideshow": {
     "slide_type": "skip"
    }
   },
   "source": [
    "**There is huge tail , So the optimal solution is to use Log scale instead.**"
   ]
  },
  {
   "cell_type": "code",
   "execution_count": 15,
   "metadata": {
    "slideshow": {
     "slide_type": "skip"
    }
   },
   "outputs": [
    {
     "data": {
      "image/png": "[encoded data removed]",
      "text/plain": [
       "<Figure size 720x576 with 1 Axes>"
      ]
     },
     "metadata": {
      "needs_background": "light"
     },
     "output_type": "display_data"
    }
   ],
   "source": [
    "#Bar chart using Log scale.\n",
    "log_binsize = 0.05\n",
    "bins = np.arange(1, (go_bike_q1['duration_min'].max())+log_binsize, log_binsize)\n",
    "plt.figure(figsize=[10, 8])\n",
    "plt.hist(data = go_bike_q1 , x = 'duration_min', bins = bins)\n",
    "plt.xscale('log')\n",
    "plt.xticks([1, 5, 15 , 60 , 150 , 500 , 1500] , [1, 5, 15 , 60 , 150 , 500 , 1500])\n",
    "plt.xlabel('Duration (min)')\n",
    "plt.title('The distribution of duration in minutes')\n",
    "plt.show()"
   ]
  },
  {
   "cell_type": "markdown",
   "metadata": {
    "slideshow": {
     "slide_type": "skip"
    }
   },
   "source": [
    "**The disturbution of the Duration (min) looks normal but in fact there is still long right tail.**"
   ]
  },
  {
   "cell_type": "markdown",
   "metadata": {
    "slideshow": {
     "slide_type": "skip"
    }
   },
   "source": [
    "- **User type distribution**."
   ]
  },
  {
   "cell_type": "markdown",
   "metadata": {
    "slideshow": {
     "slide_type": "skip"
    }
   },
   "source": [
    "**Q/ What is the type of most bikers?**"
   ]
  },
  {
   "cell_type": "code",
   "execution_count": 16,
   "metadata": {
    "slideshow": {
     "slide_type": "skip"
    }
   },
   "outputs": [
    {
     "data": {
      "image/png": "[encoded data removed]",
      "text/plain": [
       "<Figure size 432x288 with 1 Axes>"
      ]
     },
     "metadata": {},
     "output_type": "display_data"
    }
   ],
   "source": [
    "# By plotting Bar chart , we can identify the disturbution of Q1.\n",
    "labels = list(go_bike_q1.user_type.unique())\n",
    "sizes = go_bike_q1.user_type.value_counts()\n",
    "explode = (0.16, 0) \n",
    "\n",
    "fig1, ax1 = plt.subplots()\n",
    "ax1.pie(sizes, labels=labels, autopct='%1.1f%%',\n",
    "        shadow=True, startangle=90 , explode = explode )\n",
    "\n",
    "ax1.axis('equal')  \n",
    "plt.tight_layout()\n",
    "plt.title('User type distribution')\n",
    "plt.show()"
   ]
  },
  {
   "cell_type": "markdown",
   "metadata": {
    "slideshow": {
     "slide_type": "skip"
    }
   },
   "source": [
    "**The majority of the bikers are `subscribers`.**"
   ]
  },
  {
   "cell_type": "markdown",
   "metadata": {
    "slideshow": {
     "slide_type": "skip"
    }
   },
   "source": [
    "**Q/ What is the age distribution of the bikers?**"
   ]
  },
  {
   "cell_type": "code",
   "execution_count": 17,
   "metadata": {
    "slideshow": {
     "slide_type": "skip"
    }
   },
   "outputs": [
    {
     "data": {
      "image/png": "[encoded data removed]",
      "text/plain": [
       "<Figure size 1008x1008 with 1 Axes>"
      ]
     },
     "metadata": {
      "needs_background": "light"
     },
     "output_type": "display_data"
    },
    {
     "name": "stdout",
     "output_type": "stream",
     "text": [
      "0    32\n",
      "dtype: int32\n",
      "38.50611246943765\n"
     ]
    }
   ],
   "source": [
    "# By plotting Bar chart , we can identify the disturbution of bikers ages.\n",
    "base_color = sb.color_palette()[0]\n",
    "plt.figure(figsize=[14, 14])\n",
    "\n",
    "ax = sb.countplot(data = go_bike_q1, y = 'user_age', color = base_color)\n",
    "# Set title\n",
    "ax.set_title(\"The age distribution of the bikers\")\n",
    "plt.show()\n",
    "print(go_bike_q1.user_age.mode())\n",
    "print(go_bike_q1.user_age.mean())"
   ]
  },
  {
   "cell_type": "markdown",
   "metadata": {
    "slideshow": {
     "slide_type": "skip"
    }
   },
   "source": [
    "**The distribution is right skewed , the mode is 32 and the mean is 38.5.**"
   ]
  },
  {
   "cell_type": "markdown",
   "metadata": {
    "slideshow": {
     "slide_type": "skip"
    }
   },
   "source": [
    "### - Bivariate Exploration\n"
   ]
  },
  {
   "cell_type": "markdown",
   "metadata": {
    "slideshow": {
     "slide_type": "skip"
    }
   },
   "source": [
    "**Q/ Is there strong relationship between User`s age and trip duration ?**"
   ]
  },
  {
   "cell_type": "code",
   "execution_count": 18,
   "metadata": {
    "slideshow": {
     "slide_type": "skip"
    }
   },
   "outputs": [
    {
     "data": {
      "image/png": "[encoded data removed]",
      "text/plain": [
       "<Figure size 432x288 with 1 Axes>"
      ]
     },
     "metadata": {
      "needs_background": "light"
     },
     "output_type": "display_data"
    }
   ],
   "source": [
    "#Scatter plot chart\n",
    "sb.regplot(data = go_bike_q1, x = 'user_age', y = 'duration_min')\n",
    "plt.ylabel('Duration (min)')\n",
    "plt.title('Relationship of duration and age')\n",
    "plt.show()"
   ]
  },
  {
   "cell_type": "markdown",
   "metadata": {
    "slideshow": {
     "slide_type": "skip"
    }
   },
   "source": [
    "**Since the above chart is uninterpretable , i suggest to use correlation plot instead.**"
   ]
  },
  {
   "cell_type": "code",
   "execution_count": 19,
   "metadata": {
    "slideshow": {
     "slide_type": "skip"
    }
   },
   "outputs": [
    {
     "data": {
      "image/png": "[encoded data removed]",
      "text/plain": [
       "<Figure size 720x720 with 2 Axes>"
      ]
     },
     "metadata": {
      "needs_background": "light"
     },
     "output_type": "display_data"
    }
   ],
   "source": [
    "# Heat map display correlation between age and duration\n",
    "numeric_vars = ['user_age', 'duration_min']\n",
    "\n",
    "plt.figure(figsize = [10 , 10])\n",
    "sb.heatmap(go_bike_q1[numeric_vars].corr(), annot = True, fmt = '.3f',\n",
    "           cmap = 'vlag_r', center = 0)\n",
    "plt.title('Relationship of duration and age')\n",
    "plt.show()\n",
    "\n",
    "#this code is Provided by project example from class room - Refernce : file:///C:/Users/Welcome/AppData/Local/Temp/Rar$EXa1068.1648/Example%20Project/Example_Project_Diamonds_Part1.html"
   ]
  },
  {
   "cell_type": "code",
   "execution_count": 20,
   "metadata": {
    "slideshow": {
     "slide_type": "skip"
    }
   },
   "outputs": [
    {
     "data": {
      "text/plain": [
       "duration_min               1.000000\n",
       "duration_sec               1.000000\n",
       "start_station_id          -0.008104\n",
       "start_station_latitude     0.004316\n",
       "start_station_longitude   -0.013516\n",
       "end_station_id            -0.004411\n",
       "end_station_latitude       0.004587\n",
       "end_station_longitude     -0.014334\n",
       "bike_id                   -0.003814\n",
       "member_birth_year         -0.001913\n",
       "user_age                   0.001913\n",
       "Name: duration_min, dtype: float64"
      ]
     },
     "execution_count": 20,
     "metadata": {},
     "output_type": "execute_result"
    }
   ],
   "source": [
    "go_bike_q1.corr().duration_min"
   ]
  },
  {
   "cell_type": "markdown",
   "metadata": {
    "slideshow": {
     "slide_type": "skip"
    }
   },
   "source": [
    "**0.002 is considered to be tiny value. So , based on that value there is no significant relationship between trip duration and user`s age.** \n"
   ]
  },
  {
   "cell_type": "markdown",
   "metadata": {
    "slideshow": {
     "slide_type": "skip"
    }
   },
   "source": [
    "**Q/Which gender and user type tend to spend more trip duration?**"
   ]
  },
  {
   "cell_type": "code",
   "execution_count": 21,
   "metadata": {
    "slideshow": {
     "slide_type": "skip"
    }
   },
   "outputs": [
    {
     "data": {
      "image/png": "[encoded data removed]",
      "text/plain": [
       "<Figure size 432x288 with 1 Axes>"
      ]
     },
     "metadata": {
      "needs_background": "light"
     },
     "output_type": "display_data"
    }
   ],
   "source": [
    "#Violin plot\n",
    "base_color = sb.color_palette()[3]\n",
    "sb.violinplot(data = go_bike_q1[go_bike_q1['member_gender'] != \"Other\"], y = 'member_gender', x = 'duration_min', color = base_color )\n",
    "plt.xlabel('Duration (min)')\n",
    "plt.title('Relationship of duration and gender')\n",
    "plt.show()"
   ]
  },
  {
   "cell_type": "code",
   "execution_count": 22,
   "metadata": {
    "slideshow": {
     "slide_type": "skip"
    }
   },
   "outputs": [
    {
     "data": {
      "image/png": "[encoded data removed]",
      "text/plain": [
       "<Figure size 864x720 with 1 Axes>"
      ]
     },
     "metadata": {
      "needs_background": "light"
     },
     "output_type": "display_data"
    }
   ],
   "source": [
    "#Since there is large data and the plot is hard to interpret , we prefer to use a  large sample insted.\n",
    "#Sample of 100k values.\n",
    "log_binsize = 0.025\n",
    "bins = 10 ** np.arange(2.4, np.log10(go_bike_q1['duration_min'].max())+log_binsize, log_binsize)\n",
    "plt.figure(figsize=(12,10))\n",
    "samples = np.random.choice(go_bike_q1.shape[0], 100000, replace = False);\n",
    "bike_samp = go_bike_q1.iloc[samples,:];\n",
    "base_color = sb.color_palette()[3]\n",
    "plt.xscale('log')\n",
    "sb.violinplot(data = bike_samp[bike_samp['member_gender'] != \"Other\"] , y = 'member_gender', x = 'duration_min', color = base_color )\n",
    "plt.xlabel('Duration (min)')\n",
    "plt.title('Relationship of duration and gender')\n",
    "plt.xticks([1, 5, 15 , 60 , 150 , 500 , 1500] , [1, 5, 15 , 60 , 150 , 500 , 1500])\n",
    "plt.show()"
   ]
  },
  {
   "cell_type": "code",
   "execution_count": 23,
   "metadata": {
    "slideshow": {
     "slide_type": "skip"
    }
   },
   "outputs": [
    {
     "name": "stdout",
     "output_type": "stream",
     "text": [
      "11.52946477275209 14.538118031443855\n"
     ]
    }
   ],
   "source": [
    "#evaluate the mean.\n",
    "male = go_bike_q1[go_bike_q1['member_gender'] == \"Male\"]\n",
    "female = go_bike_q1[go_bike_q1['member_gender'] == \"Female\"]\n",
    "print(male.duration_min.mean() , female.duration_min.mean())\n"
   ]
  },
  {
   "cell_type": "code",
   "execution_count": 24,
   "metadata": {
    "slideshow": {
     "slide_type": "skip"
    }
   },
   "outputs": [
    {
     "data": {
      "image/png": "[encoded data removed]",
      "text/plain": [
       "<Figure size 432x288 with 1 Axes>"
      ]
     },
     "metadata": {
      "needs_background": "light"
     },
     "output_type": "display_data"
    }
   ],
   "source": [
    "#Box plot\n",
    "base_color = sb.color_palette()[2]\n",
    "sb.boxplot(data =go_bike_q1, x = 'bike_share_for_all_trip', y = 'duration_min', color = base_color )\n",
    "plt.ylabel('Duration (min)')\n",
    "plt.title('Relationship of duration and bike sharing')\n",
    "plt.show()"
   ]
  },
  {
   "cell_type": "code",
   "execution_count": 25,
   "metadata": {
    "slideshow": {
     "slide_type": "skip"
    }
   },
   "outputs": [
    {
     "data": {
      "image/png": "[encoded data removed]",
      "text/plain": [
       "<Figure size 864x720 with 1 Axes>"
      ]
     },
     "metadata": {
      "needs_background": "light"
     },
     "output_type": "display_data"
    }
   ],
   "source": [
    "#Since there is large data and the plot is hard to interpret , we prefer to use a  large sample insted.\n",
    "#Sample of 100k values.\n",
    "log_binsize = 0.025\n",
    "bins = 10 ** np.arange(2.4, np.log10(go_bike_q1['duration_min'].max())+log_binsize, log_binsize)\n",
    "plt.figure(figsize=(12,10))\n",
    "samples = np.random.choice(go_bike_q1.shape[0], 100000, replace = False);\n",
    "bike_samp = go_bike_q1.iloc[samples,:];\n",
    "base_color = sb.color_palette()[3]\n",
    "plt.yscale('log')\n",
    "sb.boxplot(data = bike_samp, x = 'bike_share_for_all_trip', y = 'duration_min', color = base_color )\n",
    "plt.xlabel('Bike share')\n",
    "plt.title('Relationship of duration and bike sharing')\n",
    "plt.yticks([1, 5, 15 , 60 , 150 , 500 , 1500] , [1, 5, 15 , 60 , 150 , 500 , 1500])\n",
    "plt.show()"
   ]
  },
  {
   "cell_type": "code",
   "execution_count": 26,
   "metadata": {
    "slideshow": {
     "slide_type": "skip"
    }
   },
   "outputs": [
    {
     "name": "stdout",
     "output_type": "stream",
     "text": [
      "13.110566236870946 12.245861894172753\n"
     ]
    }
   ],
   "source": [
    "#Evaluate the mean .\n",
    "yes = go_bike_q1[go_bike_q1['bike_share_for_all_trip'] == \"Yes\"]\n",
    "no = go_bike_q1[go_bike_q1['bike_share_for_all_trip'] == \"No\"]\n",
    "print(yes.duration_min.mean() , no.duration_min.mean())"
   ]
  },
  {
   "cell_type": "markdown",
   "metadata": {
    "slideshow": {
     "slide_type": "skip"
    }
   },
   "source": [
    "**From charts above and results , we can conclude that Female tend to spend more time in a trip than male and Bike sharing influnce positively on duration per trip.**"
   ]
  },
  {
   "cell_type": "markdown",
   "metadata": {
    "slideshow": {
     "slide_type": "skip"
    }
   },
   "source": [
    "**Q/ Which gender is most presented in first quarter?** "
   ]
  },
  {
   "cell_type": "code",
   "execution_count": 27,
   "metadata": {
    "slideshow": {
     "slide_type": "slide"
    }
   },
   "outputs": [
    {
     "data": {
      "text/plain": [
       "Text(0.5, 1.0, 'Gender per month')"
      ]
     },
     "execution_count": 27,
     "metadata": {},
     "output_type": "execute_result"
    },
    {
     "data": {
      "image/png": "[encoded data removed]",
      "text/plain": [
       "<Figure size 576x576 with 1 Axes>"
      ]
     },
     "metadata": {
      "needs_background": "light"
     },
     "output_type": "display_data"
    }
   ],
   "source": [
    "#Clustered Bar chart\n",
    "plt.figure(figsize = [8, 8])\n",
    "sb.countplot(data = go_bike_q1[go_bike_q1['member_gender'] != \"Other\"] , x = 'month', hue = 'member_gender', palette = 'Greens')\n",
    "plt.xlabel('Month')\n",
    "plt.ylabel('Count')\n",
    "plt.title('Gender per month')\n"
   ]
  },
  {
   "cell_type": "code",
   "execution_count": 28,
   "metadata": {
    "slideshow": {
     "slide_type": "skip"
    }
   },
   "outputs": [
    {
     "data": {
      "text/plain": [
       "Male      74.279701\n",
       "Female    24.306443\n",
       "Other      1.413856\n",
       "Name: member_gender, dtype: float64"
      ]
     },
     "execution_count": 28,
     "metadata": {},
     "output_type": "execute_result"
    }
   ],
   "source": [
    "go_bike_q1.member_gender.value_counts() / len(go_bike_q1) *100"
   ]
  },
  {
   "cell_type": "markdown",
   "metadata": {
    "slideshow": {
     "slide_type": "fragment"
    }
   },
   "source": [
    "**Males bikers are more than females bikers in the first quarter.**\n"
   ]
  },
  {
   "cell_type": "markdown",
   "metadata": {
    "slideshow": {
     "slide_type": "skip"
    }
   },
   "source": [
    "**We have to consider this point in order to make accurate interpretation.**"
   ]
  },
  {
   "cell_type": "markdown",
   "metadata": {
    "slideshow": {
     "slide_type": "skip"
    }
   },
   "source": [
    "### - Multivariate Exploration"
   ]
  },
  {
   "cell_type": "markdown",
   "metadata": {
    "slideshow": {
     "slide_type": "skip"
    }
   },
   "source": [
    "**Features related to the users**"
   ]
  },
  {
   "cell_type": "code",
   "execution_count": 29,
   "metadata": {
    "slideshow": {
     "slide_type": "skip"
    }
   },
   "outputs": [
    {
     "name": "stderr",
     "output_type": "stream",
     "text": [
      "C:\\Users\\Welcome\\Saud\\lib\\site-packages\\seaborn\\axisgrid.py:243: UserWarning: The `size` parameter has been renamed to `height`; please update your code.\n",
      "  warnings.warn(msg, UserWarning)\n",
      "C:\\Users\\Welcome\\Saud\\lib\\site-packages\\seaborn\\axisgrid.py:728: UserWarning: Using the violinplot function without specifying `order` is likely to produce an incorrect plot.\n",
      "  warnings.warn(warning)\n"
     ]
    },
    {
     "data": {
      "text/plain": [
       "<seaborn.axisgrid.FacetGrid at 0x15b1c4dfa08>"
      ]
     },
     "execution_count": 29,
     "metadata": {},
     "output_type": "execute_result"
    },
    {
     "data": {
      "image/png": "[encoded data removed]",
      "text/plain": [
       "<Figure size 576x288 with 2 Axes>"
      ]
     },
     "metadata": {
      "needs_background": "light"
     },
     "output_type": "display_data"
    }
   ],
   "source": [
    "#Faceting plots\n",
    "g = sb.FacetGrid(data = go_bike_q1[go_bike_q1['member_gender'] != \"Other\"] , col = 'user_type', size = 4 )\n",
    "g.map(sb.violinplot, 'user_age', 'member_gender')\n"
   ]
  },
  {
   "cell_type": "code",
   "execution_count": 30,
   "metadata": {
    "slideshow": {
     "slide_type": "skip"
    }
   },
   "outputs": [
    {
     "data": {
      "text/plain": [
       "77"
      ]
     },
     "execution_count": 30,
     "metadata": {},
     "output_type": "execute_result"
    }
   ],
   "source": [
    "go_bike_q1[(go_bike_q1['user_type'] == \"Customer\") & (go_bike_q1['member_gender'] == \"Male\") ].user_age.max()"
   ]
  },
  {
   "cell_type": "markdown",
   "metadata": {
    "slideshow": {
     "slide_type": "skip"
    }
   },
   "source": [
    "**the majority of Female subscribers and Customers are in interval of (25~40) years old.**\n",
    "\n",
    "**a few Male subscribers are above 100 years old meanwhile the oldest Male customer is 77!**.  \n"
   ]
  },
  {
   "cell_type": "markdown",
   "metadata": {
    "slideshow": {
     "slide_type": "skip"
    }
   },
   "source": [
    "- **Q/Which month has spent more duration minutes and by which gender?** "
   ]
  },
  {
   "cell_type": "code",
   "execution_count": 31,
   "metadata": {
    "slideshow": {
     "slide_type": "slide"
    }
   },
   "outputs": [
    {
     "data": {
      "image/png": "[encoded data removed]",
      "text/plain": [
       "<Figure size 648x648 with 1 Axes>"
      ]
     },
     "metadata": {
      "needs_background": "light"
     },
     "output_type": "display_data"
    }
   ],
   "source": [
    "#Point plot for mean duration\n",
    "fig = plt.figure(figsize = [9,9]);\n",
    "ax = sb.pointplot(data = go_bike_q1[go_bike_q1['member_gender'] != \"Other\"] , x = 'month', y = 'duration_min', hue = 'member_gender', \n",
    "                  palette = 'Blues')\n",
    "plt.xlabel('Month')\n",
    "plt.title('Biking durations for bikers across month and gender');\n",
    "plt.ylabel('Mean Duration (min)');\n",
    "plt.yscale('log');\n",
    "plt.yticks([1, 2, 5, 10,  13, 15 , 30, 60 , 100], [1, 2, 5, 10,  13 ,  15 , 30 , 60 , 100]);\n"
   ]
  },
  {
   "cell_type": "markdown",
   "metadata": {
    "slideshow": {
     "slide_type": "fragment"
    }
   },
   "source": [
    "- **Males have stable duration mean over the first 3 motnhs.**\n",
    "- **Females spent more duration minutes in Feburary**.\n",
    "- **On averge , Females spend more duration minutes in a trip than males.** "
   ]
  },
  {
   "cell_type": "code",
   "execution_count": 32,
   "metadata": {
    "slideshow": {
     "slide_type": "slide"
    }
   },
   "outputs": [
    {
     "data": {
      "image/png": "[encoded data removed]",
      "text/plain": [
       "<Figure size 648x648 with 1 Axes>"
      ]
     },
     "metadata": {
      "needs_background": "light"
     },
     "output_type": "display_data"
    }
   ],
   "source": [
    "#Point plot for mean duration\n",
    "fig = plt.figure(figsize = [9,9]);\n",
    "ax = sb.pointplot(data = go_bike_q1 , x = 'month', y = 'duration_min', hue = 'user_type', \n",
    "                  palette = 'Greens')\n",
    "plt.xlabel('Month')\n",
    "plt.title('Biking durations for bikers across month and user type');\n",
    "plt.ylabel('Mean Duration (min)');\n",
    "plt.yscale('log');\n",
    "plt.yticks([1, 2, 5, 10,  13, 15 , 30, 60 , 100], [1, 2, 5, 10,  13 ,  15 , 30 , 60 , 100]);"
   ]
  },
  {
   "cell_type": "code",
   "execution_count": 33,
   "metadata": {
    "slideshow": {
     "slide_type": "skip"
    }
   },
   "outputs": [
    {
     "name": "stdout",
     "output_type": "stream",
     "text": [
      "28.393676091493088 10.834198491823386 2.620745421354603\n"
     ]
    }
   ],
   "source": [
    "#Evaluate mean of user type.\n",
    "Customer = go_bike_q1[go_bike_q1['user_type'] == \"Customer\"]\n",
    "Subscriber = go_bike_q1[go_bike_q1['user_type'] == \"Subscriber\"]\n",
    "print(Customer.duration_min.mean() , Subscriber.duration_min.mean() , Customer.duration_min.mean()/Subscriber.duration_min.mean() )"
   ]
  },
  {
   "cell_type": "markdown",
   "metadata": {
    "slideshow": {
     "slide_type": "fragment"
    }
   },
   "source": [
    "**The chart above indicates that on averege ,  Customers spend more minutes on a trip than Subscribers by 160% !.**"
   ]
  },
  {
   "cell_type": "code",
   "execution_count": 34,
   "metadata": {
    "slideshow": {
     "slide_type": "skip"
    }
   },
   "outputs": [
    {
     "name": "stderr",
     "output_type": "stream",
     "text": [
      "C:\\Users\\Welcome\\Saud\\lib\\site-packages\\seaborn\\axisgrid.py:243: UserWarning: The `size` parameter has been renamed to `height`; please update your code.\n",
      "  warnings.warn(msg, UserWarning)\n"
     ]
    },
    {
     "data": {
      "text/plain": [
       "<seaborn.axisgrid.FacetGrid at 0x15b1ae782c8>"
      ]
     },
     "execution_count": 34,
     "metadata": {},
     "output_type": "execute_result"
    },
    {
     "data": {
      "image/png": "[encoded data removed]",
      "text/plain": [
       "<Figure size 479.75x360 with 1 Axes>"
      ]
     },
     "metadata": {
      "needs_background": "light"
     },
     "output_type": "display_data"
    }
   ],
   "source": [
    "#Scatter plot plus cateogrical variable represened by colors.\n",
    "g = sb.FacetGrid(data = go_bike_q1, hue = 'bike_share_for_all_trip', size = 5)\n",
    "g.map(plt.scatter, 'user_age', 'duration_min')\n",
    "g.add_legend()"
   ]
  },
  {
   "cell_type": "markdown",
   "metadata": {
    "slideshow": {
     "slide_type": "skip"
    }
   },
   "source": [
    "**Because of huge data represented as points and  located in one plot , the plot is difficult to be interpreted accurately but we can conclude that non sharing trips more likley to spend more minutes than sharing trips.** "
   ]
  },
  {
   "cell_type": "markdown",
   "metadata": {
    "slideshow": {
     "slide_type": "slide"
    }
   },
   "source": [
    "## Observed results "
   ]
  },
  {
   "cell_type": "markdown",
   "metadata": {
    "slideshow": {
     "slide_type": "skip"
    }
   },
   "source": [
    "**During the exploration process we figured out that :** \n",
    "\n"
   ]
  },
  {
   "cell_type": "markdown",
   "metadata": {
    "slideshow": {
     "slide_type": "fragment"
    }
   },
   "source": [
    "- the variables we discussed on this dataset seemed to be strongly independant , in the other hand the interaction between some features seemed to has more effect on each other.\n",
    "- The majority of bike riders are between 25 to 45 years old.\n",
    "- There are less bikers in Jan comparing with Mar & Feb. (Seasonality , climate and vacation could be the main reason - need more investigation).\n",
    "- Males are more likley to bike (Males constitue the majority of the dataset by 74% and females constitue just 25%) despite  the fact that females tend to spend more duration per a trip !.\n",
    "- Customer bikers spend more time riding a bike in comparison of Subscribe bikers.\n",
    "  "
   ]
  },
  {
   "cell_type": "markdown",
   "metadata": {
    "slideshow": {
     "slide_type": "skip"
    }
   },
   "source": [
    "## Referncees\n",
    " - the Dataset of Fordgobike 2018 provided here https://s3.amazonaws.com/fordgobike-data/index.html"
   ]
  },
  {
   "cell_type": "code",
   "execution_count": 37,
   "metadata": {
    "slideshow": {
     "slide_type": "skip"
    }
   },
   "outputs": [
    {
     "data": {
      "text/plain": [
       "0"
      ]
     },
     "execution_count": 37,
     "metadata": {},
     "output_type": "execute_result"
    }
   ],
   "source": [
    "\n",
    "from subprocess import call\n",
    "call(['python', '-m', 'nbconvert', 'FordGoBike-explanatory.ipynb'])"
   ]
  },
  {
   "cell_type": "code",
   "execution_count": 40,
   "metadata": {
    "slideshow": {
     "slide_type": "skip"
    }
   },
   "outputs": [
    {
     "name": "stderr",
     "output_type": "stream",
     "text": [
      "[NbConvertApp] Converting notebook FordGoBike-explanatory.ipynb to slides\n",
      "[NbConvertApp] Writing 347663 bytes to FordGoBike-explanatory.slides.html\n",
      "[NbConvertApp] Redirecting reveal.js requests to https://cdnjs.cloudflare.com/ajax/libs/reveal.js/3.5.0\n",
      "Traceback (most recent call last):\n",
      "  File \"C:\\Users\\Welcome\\Saud\\Scripts\\jupyter-nbconvert-script.py\", line 10, in <module>\n",
      "    sys.exit(main())\n",
      "  File \"C:\\Users\\Welcome\\Saud\\lib\\site-packages\\jupyter_core\\application.py\", line 268, in launch_instance\n",
      "    return super(JupyterApp, cls).launch_instance(argv=argv, **kwargs)\n",
      "  File \"C:\\Users\\Welcome\\Saud\\lib\\site-packages\\traitlets\\config\\application.py\", line 664, in launch_instance\n",
      "    app.start()\n",
      "  File \"C:\\Users\\Welcome\\Saud\\lib\\site-packages\\nbconvert\\nbconvertapp.py\", line 340, in start\n",
      "    self.convert_notebooks()\n",
      "  File \"C:\\Users\\Welcome\\Saud\\lib\\site-packages\\nbconvert\\nbconvertapp.py\", line 510, in convert_notebooks\n",
      "    self.convert_single_notebook(notebook_filename)\n",
      "  File \"C:\\Users\\Welcome\\Saud\\lib\\site-packages\\nbconvert\\nbconvertapp.py\", line 483, in convert_single_notebook\n",
      "    self.postprocess_single_notebook(write_results)\n",
      "  File \"C:\\Users\\Welcome\\Saud\\lib\\site-packages\\nbconvert\\nbconvertapp.py\", line 455, in postprocess_single_notebook\n",
      "    self.postprocessor(write_results)\n",
      "  File \"C:\\Users\\Welcome\\Saud\\lib\\site-packages\\nbconvert\\postprocessors\\base.py\", line 28, in __call__\n",
      "    self.postprocess(input)\n",
      "  File \"C:\\Users\\Welcome\\Saud\\lib\\site-packages\\nbconvert\\postprocessors\\serve.py\", line 90, in postprocess\n",
      "    http_server.listen(self.port, address=self.ip)\n",
      "  File \"C:\\Users\\Welcome\\Saud\\lib\\site-packages\\tornado\\tcpserver.py\", line 151, in listen\n",
      "    sockets = bind_sockets(port, address=address)\n",
      "  File \"C:\\Users\\Welcome\\Saud\\lib\\site-packages\\tornado\\netutil.py\", line 174, in bind_sockets\n",
      "    sock.bind(sockaddr)\n",
      "OSError: [WinError 10048] Only one usage of each socket address (protocol/network address/port) is normally permitted\n"
     ]
    }
   ],
   "source": [
    "! jupyter nbconvert FordGoBike-explanatory.ipynb  --to slides --post serve --template output_toggle"
   ]
  },
  {
   "cell_type": "code",
   "execution_count": null,
   "metadata": {},
   "outputs": [],
   "source": []
  }
 ],
 "metadata": {
  "celltoolbar": "Slideshow",
  "kernelspec": {
   "display_name": "Python 3",
   "language": "python",
   "name": "python3"
  },
  "language_info": {
   "codemirror_mode": {
    "name": "ipython",
    "version": 3
   },
   "file_extension": ".py",
   "mimetype": "text/x-python",
   "name": "python",
   "nbconvert_exporter": "python",
   "pygments_lexer": "ipython3",
   "version": "3.7.6"
  }
 },
 "nbformat": 4,
 "nbformat_minor": 4
}
